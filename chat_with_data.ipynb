{
 "cells": [
  {
   "cell_type": "markdown",
   "id": "d3986af4-359d-43d4-82cb-4eac5016c03a",
   "metadata": {},
   "source": [
    "## Import data"
   ]
  },
  {
   "cell_type": "code",
   "execution_count": 1,
   "id": "1022be6f-b1ef-4c10-8231-b68f61e39c06",
   "metadata": {},
   "outputs": [],
   "source": [
    "import pandas as pd"
   ]
  },
  {
   "cell_type": "code",
   "execution_count": 2,
   "id": "66259643-f579-4238-b690-4dcc70aef82d",
   "metadata": {},
   "outputs": [],
   "source": [
    "data = pd.read_csv(\"train.csv\")"
   ]
  },
  {
   "cell_type": "code",
   "execution_count": 3,
   "id": "3a0051dd-aa30-4d75-8bda-ffdac4ba7f4c",
   "metadata": {},
   "outputs": [
    {
     "data": {
      "text/html": [
       "<div>\n",
       "<style scoped>\n",
       "    .dataframe tbody tr th:only-of-type {\n",
       "        vertical-align: middle;\n",
       "    }\n",
       "\n",
       "    .dataframe tbody tr th {\n",
       "        vertical-align: top;\n",
       "    }\n",
       "\n",
       "    .dataframe thead th {\n",
       "        text-align: right;\n",
       "    }\n",
       "</style>\n",
       "<table border=\"1\" class=\"dataframe\">\n",
       "  <thead>\n",
       "    <tr style=\"text-align: right;\">\n",
       "      <th></th>\n",
       "      <th>PassengerId</th>\n",
       "      <th>Survived</th>\n",
       "      <th>Pclass</th>\n",
       "      <th>Name</th>\n",
       "      <th>Sex</th>\n",
       "      <th>Age</th>\n",
       "      <th>SibSp</th>\n",
       "      <th>Parch</th>\n",
       "      <th>Ticket</th>\n",
       "      <th>Fare</th>\n",
       "      <th>Cabin</th>\n",
       "      <th>Embarked</th>\n",
       "    </tr>\n",
       "  </thead>\n",
       "  <tbody>\n",
       "    <tr>\n",
       "      <th>0</th>\n",
       "      <td>1</td>\n",
       "      <td>0</td>\n",
       "      <td>3</td>\n",
       "      <td>Braund, Mr. Owen Harris</td>\n",
       "      <td>male</td>\n",
       "      <td>22.0</td>\n",
       "      <td>1</td>\n",
       "      <td>0</td>\n",
       "      <td>A/5 21171</td>\n",
       "      <td>7.2500</td>\n",
       "      <td>NaN</td>\n",
       "      <td>S</td>\n",
       "    </tr>\n",
       "    <tr>\n",
       "      <th>1</th>\n",
       "      <td>2</td>\n",
       "      <td>1</td>\n",
       "      <td>1</td>\n",
       "      <td>Cumings, Mrs. John Bradley (Florence Briggs Th...</td>\n",
       "      <td>female</td>\n",
       "      <td>38.0</td>\n",
       "      <td>1</td>\n",
       "      <td>0</td>\n",
       "      <td>PC 17599</td>\n",
       "      <td>71.2833</td>\n",
       "      <td>C85</td>\n",
       "      <td>C</td>\n",
       "    </tr>\n",
       "    <tr>\n",
       "      <th>2</th>\n",
       "      <td>3</td>\n",
       "      <td>1</td>\n",
       "      <td>3</td>\n",
       "      <td>Heikkinen, Miss. Laina</td>\n",
       "      <td>female</td>\n",
       "      <td>26.0</td>\n",
       "      <td>0</td>\n",
       "      <td>0</td>\n",
       "      <td>STON/O2. 3101282</td>\n",
       "      <td>7.9250</td>\n",
       "      <td>NaN</td>\n",
       "      <td>S</td>\n",
       "    </tr>\n",
       "    <tr>\n",
       "      <th>3</th>\n",
       "      <td>4</td>\n",
       "      <td>1</td>\n",
       "      <td>1</td>\n",
       "      <td>Futrelle, Mrs. Jacques Heath (Lily May Peel)</td>\n",
       "      <td>female</td>\n",
       "      <td>35.0</td>\n",
       "      <td>1</td>\n",
       "      <td>0</td>\n",
       "      <td>113803</td>\n",
       "      <td>53.1000</td>\n",
       "      <td>C123</td>\n",
       "      <td>S</td>\n",
       "    </tr>\n",
       "    <tr>\n",
       "      <th>4</th>\n",
       "      <td>5</td>\n",
       "      <td>0</td>\n",
       "      <td>3</td>\n",
       "      <td>Allen, Mr. William Henry</td>\n",
       "      <td>male</td>\n",
       "      <td>35.0</td>\n",
       "      <td>0</td>\n",
       "      <td>0</td>\n",
       "      <td>373450</td>\n",
       "      <td>8.0500</td>\n",
       "      <td>NaN</td>\n",
       "      <td>S</td>\n",
       "    </tr>\n",
       "  </tbody>\n",
       "</table>\n",
       "</div>"
      ],
      "text/plain": [
       "   PassengerId  Survived  Pclass  \\\n",
       "0            1         0       3   \n",
       "1            2         1       1   \n",
       "2            3         1       3   \n",
       "3            4         1       1   \n",
       "4            5         0       3   \n",
       "\n",
       "                                                Name     Sex   Age  SibSp  \\\n",
       "0                            Braund, Mr. Owen Harris    male  22.0      1   \n",
       "1  Cumings, Mrs. John Bradley (Florence Briggs Th...  female  38.0      1   \n",
       "2                             Heikkinen, Miss. Laina  female  26.0      0   \n",
       "3       Futrelle, Mrs. Jacques Heath (Lily May Peel)  female  35.0      1   \n",
       "4                           Allen, Mr. William Henry    male  35.0      0   \n",
       "\n",
       "   Parch            Ticket     Fare Cabin Embarked  \n",
       "0      0         A/5 21171   7.2500   NaN        S  \n",
       "1      0          PC 17599  71.2833   C85        C  \n",
       "2      0  STON/O2. 3101282   7.9250   NaN        S  \n",
       "3      0            113803  53.1000  C123        S  \n",
       "4      0            373450   8.0500   NaN        S  "
      ]
     },
     "execution_count": 3,
     "metadata": {},
     "output_type": "execute_result"
    }
   ],
   "source": [
    "data.head()"
   ]
  },
  {
   "cell_type": "code",
   "execution_count": 4,
   "id": "dd9bf599-387d-49e6-80e6-f2a456978d73",
   "metadata": {},
   "outputs": [
    {
     "data": {
      "text/plain": [
       "(891,\n",
       " PassengerId      int64\n",
       " Survived         int64\n",
       " Pclass           int64\n",
       " Name            object\n",
       " Sex             object\n",
       " Age            float64\n",
       " SibSp            int64\n",
       " Parch            int64\n",
       " Ticket          object\n",
       " Fare           float64\n",
       " Cabin           object\n",
       " Embarked        object\n",
       " dtype: object)"
      ]
     },
     "execution_count": 4,
     "metadata": {},
     "output_type": "execute_result"
    }
   ],
   "source": [
    "len(data), data.dtypes"
   ]
  },
  {
   "cell_type": "markdown",
   "id": "b62a9430-d937-4526-a00e-b66914dadb48",
   "metadata": {},
   "source": [
    "## Convert DataFrame to SQLite Database"
   ]
  },
  {
   "cell_type": "code",
   "execution_count": 5,
   "id": "8a0446dc-c21f-4c22-9200-31ca709320f2",
   "metadata": {},
   "outputs": [],
   "source": [
    "from sqlite3 import connect"
   ]
  },
  {
   "cell_type": "code",
   "execution_count": 6,
   "id": "b3633eb0-239a-4c37-a5a7-1bd38decff69",
   "metadata": {},
   "outputs": [
    {
     "data": {
      "text/plain": [
       "891"
      ]
     },
     "execution_count": 6,
     "metadata": {},
     "output_type": "execute_result"
    }
   ],
   "source": [
    "con = connect('titanic.db')\n",
    "data.to_sql('Passenger Data', con, if_exists = 'replace')"
   ]
  },
  {
   "cell_type": "code",
   "execution_count": 7,
   "id": "e19007db-99a2-4d9c-bf64-ba68b11e4898",
   "metadata": {},
   "outputs": [],
   "source": [
    "from langchain_community.utilities import SQLDatabase"
   ]
  },
  {
   "cell_type": "code",
   "execution_count": 8,
   "id": "dac8dd1d-1c03-4cf7-97ea-0c9f11721fe6",
   "metadata": {},
   "outputs": [
    {
     "name": "stdout",
     "output_type": "stream",
     "text": [
      "\n",
      "CREATE TABLE \"Passenger Data\" (\n",
      "\t\"index\" INTEGER, \n",
      "\t\"PassengerId\" INTEGER, \n",
      "\t\"Survived\" INTEGER, \n",
      "\t\"Pclass\" INTEGER, \n",
      "\t\"Name\" TEXT, \n",
      "\t\"Sex\" TEXT, \n",
      "\t\"Age\" REAL, \n",
      "\t\"SibSp\" INTEGER, \n",
      "\t\"Parch\" INTEGER, \n",
      "\t\"Ticket\" TEXT, \n",
      "\t\"Fare\" REAL, \n",
      "\t\"Cabin\" TEXT, \n",
      "\t\"Embarked\" TEXT\n",
      ")\n",
      "\n",
      "/*\n",
      "3 rows from Passenger Data table:\n",
      "index\tPassengerId\tSurvived\tPclass\tName\tSex\tAge\tSibSp\tParch\tTicket\tFare\tCabin\tEmbarked\n",
      "0\t1\t0\t3\tBraund, Mr. Owen Harris\tmale\t22.0\t1\t0\tA/5 21171\t7.25\tNone\tS\n",
      "1\t2\t1\t1\tCumings, Mrs. John Bradley (Florence Briggs Thayer)\tfemale\t38.0\t1\t0\tPC 17599\t71.2833\tC85\tC\n",
      "2\t3\t1\t3\tHeikkinen, Miss. Laina\tfemale\t26.0\t0\t0\tSTON/O2. 3101282\t7.925\tNone\tS\n",
      "*/\n"
     ]
    }
   ],
   "source": [
    "db = SQLDatabase.from_uri(\"sqlite:///titanic.db\", sample_rows_in_table_info = 3)\n",
    "print(db.table_info)"
   ]
  },
  {
   "cell_type": "markdown",
   "id": "fe312056-4199-40d9-a833-627fc4d3959f",
   "metadata": {},
   "source": [
    "## Initialize Language Model from OpenAI"
   ]
  },
  {
   "cell_type": "code",
   "execution_count": 9,
   "id": "6e785780-60fd-43c8-bf55-5347543adf11",
   "metadata": {},
   "outputs": [],
   "source": [
    "from langchain_openai import ChatOpenAI\n",
    "import os"
   ]
  },
  {
   "cell_type": "code",
   "execution_count": 10,
   "id": "b8d440b8-72dc-455a-bac9-a674c1b45255",
   "metadata": {},
   "outputs": [],
   "source": [
    "llm = ChatOpenAI(model=\"gpt-3.5-turbo\", \n",
    "                 temperature=0, \n",
    "                 openai_api_key=os.environ.get(\"OPENAI_API_KEY\"))"
   ]
  },
  {
   "cell_type": "code",
   "execution_count": 11,
   "id": "c89f4b48-005c-4d66-b8ea-9f78ffe838bc",
   "metadata": {},
   "outputs": [
    {
     "data": {
      "text/plain": [
       "<bound method Runnable.config_schema of ChatOpenAI(client=<openai.resources.chat.completions.Completions object at 0x00000223C8AC1EB0>, async_client=<openai.resources.chat.completions.AsyncCompletions object at 0x00000223C8AD5400>, temperature=0.0, openai_api_key=SecretStr('**********'), openai_proxy='')>"
      ]
     },
     "execution_count": 11,
     "metadata": {},
     "output_type": "execute_result"
    }
   ],
   "source": [
    "llm.config_schema"
   ]
  },
  {
   "cell_type": "markdown",
   "id": "42fb38d4-18fa-4b37-84d4-8b2a73776c73",
   "metadata": {},
   "source": [
    "## Using SQLDatabase Chain"
   ]
  },
  {
   "cell_type": "code",
   "execution_count": 12,
   "id": "9de732d3-a016-4638-bd2e-14a79cb0b15c",
   "metadata": {},
   "outputs": [],
   "source": [
    "from langchain_experimental.sql.base import SQLDatabaseChain"
   ]
  },
  {
   "cell_type": "code",
   "execution_count": 13,
   "id": "5ac11bc2-9e04-490d-a993-404449d9c528",
   "metadata": {},
   "outputs": [],
   "source": [
    "sql_db_chain = SQLDatabaseChain.from_llm(llm = llm, db = db, verbose = True)"
   ]
  },
  {
   "cell_type": "code",
   "execution_count": 14,
   "id": "e81ee1ab-9fd6-45c7-a2f9-ef6fbb3a923c",
   "metadata": {},
   "outputs": [
    {
     "name": "stdout",
     "output_type": "stream",
     "text": [
      "\n",
      "\n",
      "\u001b[1m> Entering new SQLDatabaseChain chain...\u001b[0m\n",
      "How many passengers were there?\n",
      "SQLQuery:\u001b[32;1m\u001b[1;3mSELECT COUNT(\"PassengerId\") AS TotalPassengers\n",
      "FROM \"Passenger Data\"\u001b[0m\n",
      "SQLResult: \u001b[33;1m\u001b[1;3m[(891,)]\u001b[0m\n",
      "Answer:\u001b[32;1m\u001b[1;3mTotal number of passengers: 891\u001b[0m\n",
      "\u001b[1m> Finished chain.\u001b[0m\n"
     ]
    },
    {
     "data": {
      "text/plain": [
       "{'query': 'How many passengers were there?',\n",
       " 'result': 'Total number of passengers: 891'}"
      ]
     },
     "execution_count": 14,
     "metadata": {},
     "output_type": "execute_result"
    }
   ],
   "source": [
    "sql_db_chain.invoke(\"How many passengers were there?\")"
   ]
  },
  {
   "cell_type": "code",
   "execution_count": 15,
   "id": "50b93a8f-c1a7-46f6-95f5-7a9cbf01c12b",
   "metadata": {},
   "outputs": [],
   "source": [
    "# sql_db_chain.invoke(\"How does survival rate varies on the basis of passenger classes?\")"
   ]
  },
  {
   "cell_type": "markdown",
   "id": "a5f2a6b3-ba4c-401b-9aed-0417a0b4ce20",
   "metadata": {},
   "source": [
    "## Custom Prompt"
   ]
  },
  {
   "cell_type": "code",
   "execution_count": 17,
   "id": "6d988b20-45c0-4b0f-98fe-a51fc189d2c9",
   "metadata": {},
   "outputs": [
    {
     "name": "stdout",
     "output_type": "stream",
     "text": [
      "\n",
      "\n",
      "\u001b[1m> Entering new SQLDatabaseChain chain...\u001b[0m\n",
      "Provide the gender-wise survival rate along with age bins of 20.\n",
      "SQLQuery:\u001b[32;1m\u001b[1;3mSELECT \"Sex\", \n",
      "    CASE \n",
      "        WHEN \"Age\" < 20 THEN '0-19'\n",
      "        WHEN \"Age\" >= 20 AND \"Age\" < 40 THEN '20-39'\n",
      "        WHEN \"Age\" >= 40 AND \"Age\" < 60 THEN '40-59'\n",
      "        ELSE '60+'\n",
      "    END AS \"Age_Bin\",\n",
      "    AVG(\"Survived\") AS \"Survival_Rate\"\n",
      "FROM \"Passenger Data\"\n",
      "GROUP BY \"Sex\", \"Age_Bin\"\n",
      "ORDER BY \"Sex\", \"Age_Bin\"\n",
      "LIMIT 5;\u001b[0m\n",
      "SQLResult: \u001b[33;1m\u001b[1;3m[('female', '0-19', 0.7066666666666667), ('female', '20-39', 0.7727272727272727), ('female', '40-59', 0.76), ('female', '60+', 0.7017543859649122), ('male', '0-19', 0.29213483146067415)]\u001b[0m\n",
      "Answer:\u001b[32;1m\u001b[1;3mThe gender-wise survival rate along with age bins of 20 are as follows:\n",
      "- For females aged 0-19, the survival rate is approximately 70.67%\n",
      "- For females aged 20-39, the survival rate is approximately 77.27%\n",
      "- For females aged 40-59, the survival rate is 76.00%\n",
      "- For females aged 60 and above, the survival rate is approximately 70.18%\n",
      "- For males aged 0-19, the survival rate is approximately 29.21%\u001b[0m\n",
      "\u001b[1m> Finished chain.\u001b[0m\n"
     ]
    },
    {
     "data": {
      "text/plain": [
       "{'query': 'Provide the gender-wise survival rate along with age bins of 20.',\n",
       " 'result': 'The gender-wise survival rate along with age bins of 20 are as follows:\\n- For females aged 0-19, the survival rate is approximately 70.67%\\n- For females aged 20-39, the survival rate is approximately 77.27%\\n- For females aged 40-59, the survival rate is 76.00%\\n- For females aged 60 and above, the survival rate is approximately 70.18%\\n- For males aged 0-19, the survival rate is approximately 29.21%'}"
      ]
     },
     "execution_count": 17,
     "metadata": {},
     "output_type": "execute_result"
    }
   ],
   "source": [
    "sql_db_chain = SQLDatabaseChain.from_llm(llm = llm, db = db, verbose = True)\n",
    "sql_db_chain.invoke(\"Provide the gender-wise survival rate along with age bins of 20.\")"
   ]
  },
  {
   "cell_type": "code",
   "execution_count": 18,
   "id": "e28eabcb-a979-407a-a8ed-a44e3e637e65",
   "metadata": {},
   "outputs": [],
   "source": [
    "connection = connect(\"titanic.db\")"
   ]
  },
  {
   "cell_type": "code",
   "execution_count": 19,
   "id": "e5a6f1ae-8db1-4de7-b08f-83584a88a406",
   "metadata": {},
   "outputs": [],
   "source": [
    "curr = connection.execute('''\n",
    "SELECT \"Sex\", \n",
    "    CASE \n",
    "        WHEN \"Age\" < 20 THEN '0-19'\n",
    "        WHEN \"Age\" >= 20 AND \"Age\" < 40 THEN '20-39'\n",
    "        WHEN \"Age\" >= 40 AND \"Age\" < 60 THEN '40-59'\n",
    "        ELSE '60+'\n",
    "    END AS \"Age_Bin\",\n",
    "    AVG(\"Survived\") AS \"Survival_Rate\"\n",
    "FROM \"Passenger Data\"\n",
    "GROUP BY \"Sex\", \"Age_Bin\"\n",
    "ORDER BY \"Sex\", \"Age_Bin\";\n",
    "''')"
   ]
  },
  {
   "cell_type": "code",
   "execution_count": 20,
   "id": "0e098a67-0618-420a-8e30-08dc0144c87e",
   "metadata": {},
   "outputs": [
    {
     "name": "stdout",
     "output_type": "stream",
     "text": [
      "[('female', '0-19', 0.7066666666666667), ('female', '20-39', 0.7727272727272727), ('female', '40-59', 0.76), ('female', '60+', 0.7017543859649122), ('male', '0-19', 0.29213483146067415), ('male', '20-39', 0.18823529411764706), ('male', '40-59', 0.1839080459770115), ('male', '60+', 0.13013698630136986)]\n"
     ]
    }
   ],
   "source": [
    "print(curr.fetchall())"
   ]
  },
  {
   "cell_type": "code",
   "execution_count": 21,
   "id": "80bf7820-5a06-45a8-9cec-81f772314353",
   "metadata": {},
   "outputs": [],
   "source": [
    "curr.close()\n",
    "connection.close()"
   ]
  },
  {
   "cell_type": "code",
   "execution_count": 22,
   "id": "96b05903-50b5-46de-bb31-1573084d47ea",
   "metadata": {},
   "outputs": [],
   "source": [
    "prompt_template = '''\n",
    "Given an input question, first create a syntactically correct SQLite query to run, then look at the results of the query and return the answer to the input question.\n",
    "Unless the user specifies in the question a specific number of examples to obtain, query for at most 10 results using the LIMIT clause as per SQLite. You can order the results to return the most informative data in the database.\n",
    "Never query for all columns from a table. You must query only the columns that are needed to answer the question. Wrap each column name in double quotes (\") to denote them as delimited identifiers.\n",
    "Pay attention to use only the column names you can see in the tables below. Be careful to not query for columns that do not exist. Also, pay attention to which column is in which table.\n",
    "Pay attention to use date('now') function to get the current date, if the question involves \"today\".\n",
    "\n",
    "Use the following format:\n",
    "\n",
    "Question: Question here\n",
    "SQLQuery: SQL Query to run\n",
    "SQLResult: Result of the SQLQuery\n",
    "Answer: Final answer here\n",
    "\n",
    "Only use the following tables:\n",
    "CREATE TABLE \"Passenger Data\" (\n",
    "\t\"index\" INTEGER, \n",
    "\t\"PassengerId\" INTEGER, \n",
    "\t\"Survived\" INTEGER, \n",
    "\t\"Pclass\" INTEGER, \n",
    "\t\"Name\" TEXT, \n",
    "\t\"Sex\" TEXT, \n",
    "\t\"Age\" REAL, \n",
    "\t\"SibSp\" INTEGER, \n",
    "\t\"Parch\" INTEGER, \n",
    "\t\"Ticket\" TEXT, \n",
    "\t\"Fare\" REAL, \n",
    "\t\"Cabin\" TEXT, \n",
    "\t\"Embarked\" TEXT\n",
    ")\n",
    "\n",
    "/*\n",
    "3 rows from Passenger Data table:\n",
    "index\tPassengerId\tSurvived\tPclass\tName\tSex\tAge\tSibSp\tParch\tTicket\tFare\tCabin\tEmbarked\n",
    "0\t1\t0\t3\tBraund, Mr. Owen Harris\tmale\t22.0\t1\t0\tA/5 21171\t7.25\tNone\tS\n",
    "1\t2\t1\t1\tCumings, Mrs. John Bradley (Florence Briggs Thayer)\tfemale\t38.0\t1\t0\tPC 17599\t71.2833\tC85\tC\n",
    "2\t3\t1\t3\tHeikkinen, Miss. Laina\tfemale\t26.0\t0\t0\tSTON/O2. 3101282\t7.925\tNone\tS\n",
    "*/\n",
    "\n",
    "Question: {input}\n",
    "'''"
   ]
  },
  {
   "cell_type": "code",
   "execution_count": 23,
   "id": "a3847bd9-6e14-4963-9c35-6cbca4f7e988",
   "metadata": {},
   "outputs": [],
   "source": [
    "from langchain_core.prompts import PromptTemplate\n",
    "PROMPT = PromptTemplate.from_template(prompt_template, variables = ['input'])"
   ]
  },
  {
   "cell_type": "code",
   "execution_count": 24,
   "id": "0f4a95d9-dd07-4c13-aacd-5cdefff04680",
   "metadata": {},
   "outputs": [],
   "source": [
    "sql_db_chain = SQLDatabaseChain.from_llm(llm = llm, db = db, verbose = True, prompt = PROMPT)"
   ]
  },
  {
   "cell_type": "code",
   "execution_count": 26,
   "id": "c50eaad5-afa7-4af2-a88c-b144c7a1823d",
   "metadata": {},
   "outputs": [
    {
     "name": "stdout",
     "output_type": "stream",
     "text": [
      "\n",
      "\n",
      "\u001b[1m> Entering new SQLDatabaseChain chain...\u001b[0m\n",
      "Provide the gender-wise survival rate along with age bins of 20\n",
      "SQLQuery:\u001b[32;1m\u001b[1;3mSELECT \"Sex\", \n",
      "       CASE \n",
      "           WHEN \"Age\" < 20 THEN '0-19'\n",
      "           WHEN \"Age\" >= 20 AND \"Age\" < 40 THEN '20-39'\n",
      "           WHEN \"Age\" >= 40 AND \"Age\" < 60 THEN '40-59'\n",
      "           ELSE '60+'\n",
      "       END AS \"AgeBin\",\n",
      "       AVG(\"Survived\") AS \"SurvivalRate\"\n",
      "FROM \"Passenger Data\"\n",
      "GROUP BY \"Sex\", \"AgeBin\"\n",
      "ORDER BY \"Sex\", \"AgeBin\"\n",
      "LIMIT 10;\u001b[0m\n",
      "SQLResult: \u001b[33;1m\u001b[1;3m[('female', '0-19', 0.7066666666666667), ('female', '20-39', 0.7727272727272727), ('female', '40-59', 0.76), ('female', '60+', 0.7017543859649122), ('male', '0-19', 0.29213483146067415), ('male', '20-39', 0.18823529411764706), ('male', '40-59', 0.1839080459770115), ('male', '60+', 0.13013698630136986)]\u001b[0m\n",
      "Answer:\u001b[32;1m\u001b[1;3mFemale passengers had a higher survival rate compared to male passengers across different age bins. The survival rate for females ranged from approximately 70% to 77%, while for males it ranged from around 13% to 29%.\u001b[0m\n",
      "\u001b[1m> Finished chain.\u001b[0m\n"
     ]
    },
    {
     "data": {
      "text/plain": [
       "{'query': 'Provide the gender-wise survival rate along with age bins of 20',\n",
       " 'result': 'Female passengers had a higher survival rate compared to male passengers across different age bins. The survival rate for females ranged from approximately 70% to 77%, while for males it ranged from around 13% to 29%.'}"
      ]
     },
     "execution_count": 26,
     "metadata": {},
     "output_type": "execute_result"
    }
   ],
   "source": [
    "sql_db_chain.invoke(\"Provide the gender-wise survival rate along with age bins of 20\")"
   ]
  },
  {
   "cell_type": "markdown",
   "id": "d2935b54-472b-4ce5-b2e9-e313a4387d4a",
   "metadata": {},
   "source": [
    "## Create a SQL Query Chain"
   ]
  },
  {
   "cell_type": "code",
   "execution_count": 27,
   "id": "653770f9-565b-45ab-b88d-a9521eb3fb56",
   "metadata": {},
   "outputs": [],
   "source": [
    "from langchain.chains import create_sql_query_chain"
   ]
  },
  {
   "cell_type": "code",
   "execution_count": 28,
   "id": "8df41150-b8b2-4571-89f2-ba31521c485a",
   "metadata": {},
   "outputs": [],
   "source": [
    "sql_chain = create_sql_query_chain(llm, db)"
   ]
  },
  {
   "cell_type": "code",
   "execution_count": 29,
   "id": "16075fa9-67ff-42c8-97f3-5deb7b226c90",
   "metadata": {},
   "outputs": [
    {
     "data": {
      "text/plain": [
       "RunnableAssign(mapper={\n",
       "  input: RunnableLambda(...),\n",
       "  table_info: RunnableLambda(...)\n",
       "})\n",
       "| RunnableLambda(lambda x: {k: v for (k, v) in x.items() if k not in ('question', 'table_names_to_use')})\n",
       "| PromptTemplate(input_variables=['input', 'table_info'], partial_variables={'top_k': '5'}, template='You are a SQLite expert. Given an input question, first create a syntactically correct SQLite query to run, then look at the results of the query and return the answer to the input question.\\nUnless the user specifies in the question a specific number of examples to obtain, query for at most {top_k} results using the LIMIT clause as per SQLite. You can order the results to return the most informative data in the database.\\nNever query for all columns from a table. You must query only the columns that are needed to answer the question. Wrap each column name in double quotes (\") to denote them as delimited identifiers.\\nPay attention to use only the column names you can see in the tables below. Be careful to not query for columns that do not exist. Also, pay attention to which column is in which table.\\nPay attention to use date(\\'now\\') function to get the current date, if the question involves \"today\".\\n\\nUse the following format:\\n\\nQuestion: Question here\\nSQLQuery: SQL Query to run\\nSQLResult: Result of the SQLQuery\\nAnswer: Final answer here\\n\\nOnly use the following tables:\\n{table_info}\\n\\nQuestion: {input}')\n",
       "| RunnableBinding(bound=ChatOpenAI(client=<openai.resources.chat.completions.Completions object at 0x00000223C8AC1EB0>, async_client=<openai.resources.chat.completions.AsyncCompletions object at 0x00000223C8AD5400>, temperature=0.0, openai_api_key=SecretStr('**********'), openai_proxy=''), kwargs={'stop': ['\\nSQLResult:']})\n",
       "| StrOutputParser()\n",
       "| RunnableLambda(_strip)"
      ]
     },
     "execution_count": 29,
     "metadata": {},
     "output_type": "execute_result"
    }
   ],
   "source": [
    "sql_chain"
   ]
  },
  {
   "cell_type": "code",
   "execution_count": 30,
   "id": "6f4a6e39-bc21-4ef7-b62f-bb639fc55d4d",
   "metadata": {},
   "outputs": [
    {
     "data": {
      "text/plain": [
       "'SELECT COUNT(\"PassengerId\") AS total_passengers\\nFROM \"Passenger Data\"'"
      ]
     },
     "execution_count": 30,
     "metadata": {},
     "output_type": "execute_result"
    }
   ],
   "source": [
    "response = sql_chain.invoke({\"question\": \"How many passengers were there?\"})\n",
    "response"
   ]
  },
  {
   "cell_type": "markdown",
   "id": "637fc15f-4a63-4e75-9bed-f74864693f10",
   "metadata": {},
   "source": [
    "## Run SQL Query on your database"
   ]
  },
  {
   "cell_type": "code",
   "execution_count": 31,
   "id": "62101b5e-7143-44f7-a1fd-bfed2e8a3d5f",
   "metadata": {},
   "outputs": [],
   "source": [
    "from langchain_community.tools.sql_database.tool import QuerySQLDataBaseTool"
   ]
  },
  {
   "cell_type": "code",
   "execution_count": 32,
   "id": "f27e5b97-a41c-461f-82ab-2b63a0474577",
   "metadata": {},
   "outputs": [],
   "source": [
    "db_execution = QuerySQLDataBaseTool(db = db)\n",
    "execution_chain = sql_chain | db_execution"
   ]
  },
  {
   "cell_type": "code",
   "execution_count": 33,
   "id": "5e08a983-5044-4529-ad79-e763797e6a81",
   "metadata": {},
   "outputs": [
    {
     "data": {
      "text/plain": [
       "'[(891,)]'"
      ]
     },
     "execution_count": 33,
     "metadata": {},
     "output_type": "execute_result"
    }
   ],
   "source": [
    "response = execution_chain.invoke({\"question\": \"How many passengers were there?\"})\n",
    "response"
   ]
  },
  {
   "cell_type": "markdown",
   "id": "1ad3199a-e79c-49b7-8d42-8f440b0e1251",
   "metadata": {},
   "source": [
    "## Summarize the final result"
   ]
  },
  {
   "cell_type": "code",
   "execution_count": 34,
   "id": "6a5773be-ee61-4862-9c54-656201d5ec84",
   "metadata": {},
   "outputs": [],
   "source": [
    "from operator import itemgetter\n",
    "from langchain_core.output_parsers import StrOutputParser\n",
    "from langchain_core.runnables import RunnablePassthrough"
   ]
  },
  {
   "cell_type": "code",
   "execution_count": 35,
   "id": "54410efc-3741-491e-a16b-904634ac4efd",
   "metadata": {},
   "outputs": [],
   "source": [
    "from langchain_core.prompts import PromptTemplate\n",
    "\n",
    "template = '''\n",
    "Given the following user's quesion, corresponsing SQL query and SQL result, answer the user's question.\n",
    "Question: {question}\n",
    "SQL Query: {query}\n",
    "SQL Result: {result}\n",
    "Answer:\n",
    "'''\n",
    "prompt = PromptTemplate.from_template(template)"
   ]
  },
  {
   "cell_type": "code",
   "execution_count": 36,
   "id": "df611f65-3931-4f53-ba85-1b52dfda8d3d",
   "metadata": {},
   "outputs": [],
   "source": [
    "output = prompt | llm | StrOutputParser()\n",
    "chain = (RunnablePassthrough.assign(query = sql_chain).assign(result = itemgetter(\"query\") | db_execution) | output)"
   ]
  },
  {
   "cell_type": "code",
   "execution_count": 37,
   "id": "e22551a4-deb8-4fda-9df8-0aaf3a6f2c9a",
   "metadata": {},
   "outputs": [],
   "source": [
    "ch = RunnablePassthrough.assign(query = sql_chain)"
   ]
  },
  {
   "cell_type": "code",
   "execution_count": 38,
   "id": "c9c79490-12ac-4326-abc2-ecc83000536c",
   "metadata": {},
   "outputs": [
    {
     "data": {
      "text/plain": [
       "{'question': 'How does the prices varies with respect to passenger classes?',\n",
       " 'query': 'SELECT \"Pclass\", AVG(\"Fare\") AS \"Average Fare\"\\nFROM \"Passenger Data\"\\nGROUP BY \"Pclass\"\\nORDER BY \"Pclass\";\\nLIMIT 5;'}"
      ]
     },
     "execution_count": 38,
     "metadata": {},
     "output_type": "execute_result"
    }
   ],
   "source": [
    "ch.invoke({\"question\": \"How does the prices varies with respect to passenger classes?\"})"
   ]
  },
  {
   "cell_type": "code",
   "execution_count": 39,
   "id": "f9a8ec10-90a0-4f81-9f0d-25aa202e6d35",
   "metadata": {},
   "outputs": [],
   "source": [
    "ch2 = RunnablePassthrough.assign(query = sql_chain).assign(result = itemgetter(\"query\") | db_execution)"
   ]
  },
  {
   "cell_type": "code",
   "execution_count": 40,
   "id": "e842251e-7cff-467c-97ec-0d05923f1b87",
   "metadata": {},
   "outputs": [
    {
     "data": {
      "text/plain": [
       "{'question': 'How does the prices varies with respect to passenger classes?',\n",
       " 'query': 'SELECT \"Pclass\", AVG(\"Fare\") AS \"Average Fare\"\\nFROM \"Passenger Data\"\\nGROUP BY \"Pclass\"\\nORDER BY \"Pclass\" ASC\\nLIMIT 5;',\n",
       " 'result': '[(1, 84.15468749999992), (2, 20.66218315217391), (3, 13.675550101832997)]'}"
      ]
     },
     "execution_count": 40,
     "metadata": {},
     "output_type": "execute_result"
    }
   ],
   "source": [
    "ch2.invoke({\"question\": \"How does the prices varies with respect to passenger classes?\"})"
   ]
  },
  {
   "cell_type": "code",
   "execution_count": 42,
   "id": "988cc8f7-2e6e-4e2b-ad50-b62689fbfa5f",
   "metadata": {},
   "outputs": [
    {
     "data": {
      "text/plain": [
       "'The prices vary significantly with respect to passenger classes. On average, passengers in first class (Pclass 1) paid the highest fare of $84.15, followed by passengers in second class (Pclass 2) with an average fare of $20.66, and passengers in third class (Pclass 3) with the lowest average fare of $13.68. This shows that there is a clear difference in pricing based on the passenger class.'"
      ]
     },
     "execution_count": 42,
     "metadata": {},
     "output_type": "execute_result"
    }
   ],
   "source": [
    "chain.invoke({\"question\": \"How does the prices varies with respect to passenger classes?\"})"
   ]
  },
  {
   "cell_type": "markdown",
   "id": "5e1fe5cf-731b-4e7e-a16c-b5b335a35d69",
   "metadata": {},
   "source": [
    "## Showcasing in UI using Gradio"
   ]
  },
  {
   "cell_type": "code",
   "execution_count": 43,
   "id": "96012bc6-aa79-406e-9df0-4e502f6eb721",
   "metadata": {},
   "outputs": [],
   "source": [
    "import gradio as gr"
   ]
  },
  {
   "cell_type": "code",
   "execution_count": 44,
   "id": "7a572f97-340f-433a-b39c-3f9d89b8b25f",
   "metadata": {},
   "outputs": [],
   "source": [
    "template = '''\n",
    "Given the following user's quesion, corresponsing SQL query and SQL result, answer the user's question.\n",
    "Question: {question}\n",
    "SQL Query: {sql_query}\n",
    "SQL Result: {result}\n",
    "Answer:\n",
    "'''\n",
    "prompt = PromptTemplate.from_template(template)"
   ]
  },
  {
   "cell_type": "code",
   "execution_count": 45,
   "id": "16348e2b-4851-4eb1-85f8-b37feb0c8628",
   "metadata": {},
   "outputs": [],
   "source": [
    "def create_chain(question):\n",
    "    db = SQLDatabase.from_uri(\"sqlite:///titanic.db\", sample_rows_in_table_info = 3)\n",
    "    sql_chain = create_sql_query_chain(llm, db)\n",
    "    db_execution = QuerySQLDataBaseTool(db = db)\n",
    "    output = prompt | llm | StrOutputParser()\n",
    "    chain = (RunnablePassthrough.assign(sql_query = sql_chain).assign(result = itemgetter(\"sql_query\") | db_execution) | output)\n",
    "\n",
    "    return chain.invoke({\"question\": question})\n"
   ]
  },
  {
   "cell_type": "code",
   "execution_count": 46,
   "id": "f8cb71ee-ca1e-40b7-9c22-5a1a9129fa33",
   "metadata": {},
   "outputs": [],
   "source": [
    "def extract_data(user_message, history):\n",
    "    question_with_history = \"\"\n",
    "    for hist in history[-3:]:\n",
    "        question_with_history += f\"User: {hist[0]}\\nAssistant: {hist[1]}\\n\"\n",
    "    question_with_history += f\"User: {user_message}\\n\"\n",
    "    print(\"Input to LLM:\\n\", question_with_history)\n",
    "\n",
    "    bot_message = create_chain(question_with_history)\n",
    "\n",
    "    history += [[user_message, bot_message]]\n",
    "\n",
    "    return bot_message, history"
   ]
  },
  {
   "cell_type": "code",
   "execution_count": 47,
   "id": "1eaa022e-b43c-4c3a-b4aa-874b6eb89c50",
   "metadata": {},
   "outputs": [
    {
     "name": "stdout",
     "output_type": "stream",
     "text": [
      "Running on local URL:  http://127.0.0.1:7860\n",
      "\n",
      "To create a public link, set `share=True` in `launch()`.\n"
     ]
    },
    {
     "data": {
      "text/html": [
       "<div><iframe src=\"http://127.0.0.1:7860/\" width=\"100%\" height=\"500\" allow=\"autoplay; camera; microphone; clipboard-read; clipboard-write;\" frameborder=\"0\" allowfullscreen></iframe></div>"
      ],
      "text/plain": [
       "<IPython.core.display.HTML object>"
      ]
     },
     "metadata": {},
     "output_type": "display_data"
    },
    {
     "data": {
      "text/plain": []
     },
     "execution_count": 47,
     "metadata": {},
     "output_type": "execute_result"
    }
   ],
   "source": [
    "with gr.Blocks() as demo:\n",
    "    chatbot = gr.Chatbot(label = \"Chat with Data\")\n",
    "    msg = gr.Textbox(label = \"Question\", placeholder = \"Enter your question here\")\n",
    "    clear = gr.Button(\"Clear\")\n",
    "\n",
    "    def user(user_message, history):\n",
    "        bot_message, history = extract_data(user_message, history)\n",
    "        print(\"LLM Response: \", bot_message)\n",
    "        return \"\", history\n",
    "\n",
    "    msg.submit(user, [msg, chatbot], [msg, chatbot], queue=False)\n",
    "    clear.click(lambda: None, None, chatbot, queue=False)\n",
    "    \n",
    "demo.queue()\n",
    "demo.launch()"
   ]
  },
  {
   "cell_type": "markdown",
   "id": "f3106d14-94e8-4d96-96fc-089e0f8b70a7",
   "metadata": {},
   "source": [
    "## Talk with Data"
   ]
  },
  {
   "cell_type": "code",
   "execution_count": 48,
   "id": "2823a747-7fdf-4a3a-aca2-09a036130962",
   "metadata": {},
   "outputs": [
    {
     "name": "stderr",
     "output_type": "stream",
     "text": [
      "C:\\Users\\atulk\\.conda\\envs\\hgface\\lib\\site-packages\\transformers\\deepspeed.py:23: FutureWarning: transformers.deepspeed module is deprecated and will be removed in a future version. Please import deepspeed modules directly from transformers.integrations\n",
      "  warnings.warn(\n",
      "Special tokens have been added in the vocabulary, make sure the associated word embeddings are fine-tuned or trained.\n",
      "Special tokens have been added in the vocabulary, make sure the associated word embeddings are fine-tuned or trained.\n"
     ]
    }
   ],
   "source": [
    "from transformers import AutoProcessor, SeamlessM4TModel\n",
    "import torchaudio\n",
    "import time\n",
    "\n",
    "processor = AutoProcessor.from_pretrained(\"facebook/hf-seamless-m4t-medium\")\n",
    "model = SeamlessM4TModel.from_pretrained(\"facebook/hf-seamless-m4t-medium\")"
   ]
  },
  {
   "cell_type": "code",
   "execution_count": 49,
   "id": "f1413c94-12c1-42c0-b886-2e21b210b016",
   "metadata": {},
   "outputs": [],
   "source": [
    "def speech_to_text(filepath):\n",
    "    t1 = time.time()\n",
    "    audio, orig_freq =  torchaudio.load(filepath, backend = \"soundfile\")\n",
    "    audio =  torchaudio.functional.resample(audio, orig_freq=orig_freq, new_freq=16_000) # must be a 16 kHz waveform array\n",
    "    audio_inputs = processor(audios=audio, return_tensors=\"pt\")\n",
    "    output_tokens = model.generate(**audio_inputs, tgt_lang=\"eng\", generate_speech = False)\n",
    "    generated_text_from_audio = processor.decode(output_tokens[0].tolist()[0], skip_special_tokens = True)\n",
    "\n",
    "    print(\"Time taken for speech to text: \", time.time() - t1)\n",
    "    print(\"Speech to text output: \", generated_text_from_audio)\n",
    "\n",
    "    return generated_text_from_audio"
   ]
  },
  {
   "cell_type": "code",
   "execution_count": 50,
   "id": "14c29b43-1cd4-4b8c-9bdf-6d777078e4d7",
   "metadata": {},
   "outputs": [],
   "source": [
    "import subprocess\n",
    "def text_to_speech(text):\n",
    "    subprocess.call(['edge-tts', '--text', text, '--write-media', 'output.wav', '--write-subtitles', 'hello.vtt'])"
   ]
  },
  {
   "cell_type": "code",
   "execution_count": 51,
   "id": "0d4e7973-6071-4967-a9a5-e3cb4a6c289c",
   "metadata": {},
   "outputs": [],
   "source": [
    "def create_chain(question):\n",
    "    db = SQLDatabase.from_uri(\"sqlite:///titanic.db\", sample_rows_in_table_info = 3)\n",
    "    sql_chain = create_sql_query_chain(llm, db)\n",
    "    db_execution = QuerySQLDataBaseTool(db = db)\n",
    "    output = prompt | llm | StrOutputParser()\n",
    "    chain = (RunnablePassthrough.assign(sql_query = sql_chain).assign(result = itemgetter(\"sql_query\") | db_execution) | output)\n",
    "\n",
    "    return chain.invoke({\"question\": question})\n",
    "\n",
    "def extract_data(user_message, history):\n",
    "    question_with_history = \"\"\n",
    "    for hist in history[-3:]:\n",
    "        question_with_history += f\"User: {hist[0]}\\nAssistant: {hist[1]}\\n\"\n",
    "    question_with_history += f\"User: {user_message}\\n\"\n",
    "    print(\"Input to LLM:\\n\", question_with_history)\n",
    "\n",
    "    bot_message = create_chain(question_with_history)\n",
    "\n",
    "    history += [[user_message, bot_message]]\n",
    "\n",
    "    return bot_message, history"
   ]
  },
  {
   "cell_type": "code",
   "execution_count": 52,
   "id": "56b43d6e-3e82-4133-9ff1-ab3de2a0e919",
   "metadata": {},
   "outputs": [
    {
     "name": "stdout",
     "output_type": "stream",
     "text": [
      "Running on local URL:  http://127.0.0.1:7861\n",
      "\n",
      "To create a public link, set `share=True` in `launch()`.\n"
     ]
    },
    {
     "data": {
      "text/html": [
       "<div><iframe src=\"http://127.0.0.1:7861/\" width=\"100%\" height=\"500\" allow=\"autoplay; camera; microphone; clipboard-read; clipboard-write;\" frameborder=\"0\" allowfullscreen></iframe></div>"
      ],
      "text/plain": [
       "<IPython.core.display.HTML object>"
      ]
     },
     "metadata": {},
     "output_type": "display_data"
    },
    {
     "data": {
      "text/plain": []
     },
     "execution_count": 52,
     "metadata": {},
     "output_type": "execute_result"
    }
   ],
   "source": [
    "with gr.Blocks() as demo:\n",
    "    chatbot = gr.Chatbot(label = \"Chat with Data\")\n",
    "    output_audio = gr.Audio(label = \"Output\", autoplay = True)\n",
    "    with gr.Row():\n",
    "        msg = gr.Textbox(label = \"Question\", placeholder = \"Enter your question here\")\n",
    "        audio = gr.Audio(source = \"microphone\", type = \"filepath\", label = \"Record\")\n",
    "    with gr.Row():\n",
    "        submit = gr.Button(\"Submit\")\n",
    "        clear = gr.ClearButton([chatbot, audio, output_audio])\n",
    "\n",
    "    def user(user_message, history, filepath):\n",
    "        if not user_message and filepath:\n",
    "            user_message = speech_to_text(filepath)\n",
    "        t1 = time.time()\n",
    "        bot_message, history = extract_data(user_message, history)\n",
    "        text_to_speech(bot_message)\n",
    "\n",
    "        print(\"LLM Response: \", bot_message)\n",
    "        print(\"Time taken for llm generation: \", time.time() - t1)\n",
    "        return \"\", history, \"output.wav\"\n",
    "\n",
    "    msg.submit(user, [msg, chatbot, audio], [msg, chatbot, output_audio], queue=False)\n",
    "    submit.click(user, [msg, chatbot, audio], [msg, chatbot, output_audio], queue=False)\n",
    "    \n",
    "demo.queue()\n",
    "demo.launch()"
   ]
  },
  {
   "cell_type": "code",
   "execution_count": null,
   "id": "ec4f0f42-b77f-4c24-a4ab-12da203c5b10",
   "metadata": {},
   "outputs": [],
   "source": []
  }
 ],
 "metadata": {
  "kernelspec": {
   "display_name": "Python 3 (ipykernel)",
   "language": "python",
   "name": "python3"
  },
  "language_info": {
   "codemirror_mode": {
    "name": "ipython",
    "version": 3
   },
   "file_extension": ".py",
   "mimetype": "text/x-python",
   "name": "python",
   "nbconvert_exporter": "python",
   "pygments_lexer": "ipython3",
   "version": "3.9.17"
  }
 },
 "nbformat": 4,
 "nbformat_minor": 5
}
